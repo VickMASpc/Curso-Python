{
 "cells": [
  {
   "cell_type": "code",
   "execution_count": null,
   "metadata": {},
   "outputs": [],
   "source": [
    "nome = input(\"Digite seu nome: \")\n",
    "sobrenome = input(\"Digite seu sobrenome: \")\n",
    "\n",
    "nomeCompleto = f'{nome} {sobrenome}'\n",
    "\n",
    "altura = float(input(\"Digite sua altura\"))\n",
    "\n",
    "peso = int(input(\"Digite seu peso\"))\n",
    "imc = peso/altura**2\n",
    "\n",
    "print(\"Eu sou\", nomeCompleto, \"e meu imc é\", imc)\n",
    "\n",
    "# ---------------------------------------------|\n",
    "# fazer uma calculadora para somar dois números|\n",
    "#----------------------------------------------|"
   ]
  }
 ],
 "metadata": {
  "kernelspec": {
   "display_name": "base",
   "language": "python",
   "name": "python3"
  },
  "language_info": {
   "codemirror_mode": {
    "name": "ipython",
    "version": 3
   },
   "file_extension": ".py",
   "mimetype": "text/x-python",
   "name": "python",
   "nbconvert_exporter": "python",
   "pygments_lexer": "ipython3",
   "version": "3.12.7"
  }
 },
 "nbformat": 4,
 "nbformat_minor": 2
}
