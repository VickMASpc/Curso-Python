{
 "cells": [
  {
   "cell_type": "code",
   "execution_count": null,
   "metadata": {},
   "outputs": [],
   "source": [
    "sim = True\n",
    "nao = False\n",
    "\n",
    "if sim:\n",
    "    print(\"Entrou no if\")\n",
    "else:\n",
    "    print(\"Não entrou\")\n",
    "\n",
    "# --------------|\n",
    "resto = 5%2    #|\n",
    "print(resto)   #|\n",
    "# --------------|\n",
    "\n",
    "# ----------------------------------------|\n",
    "numero = int(input(\"Digite um numero\"))  #|\n",
    "                                         #|\n",
    "restoNumero = numero%2                   #|\n",
    "                                         #|\n",
    "if restoNumero == 1:                     #|\n",
    "    print(\"Ímpar\")                       #|\n",
    "else:                                    #|\n",
    "    print(\"Par\")                         #|\n",
    "# ----------------------------------------|\n",
    "\n",
    "# -----------------|\n",
    "# == Igual á       |\n",
    "# != Diferente de  |\n",
    "# < Menor que      |\n",
    "# <= Menor ou igual|\n",
    "# > Menor que      |\n",
    "# >= Maior ou igual|\n",
    "# -----------------|\n",
    "\n",
    "# -----------------|\n",
    "# a, b, c, d       |\n",
    "# -----------------|\n",
    "\n",
    "# ---------|\n",
    "A = 12    #|\n",
    "B = 0.12  #|\n",
    "C = 27    #|\n",
    "D = 15/2  #|\n",
    "# ---------|\n",
    "\n",
    "if A > B:\n",
    "    print(\"A é maior que B\")\n",
    "elif A >= C:\n",
    "    print(\"A é maior ou igual a D\")\n",
    "elif A < D: \n",
    "    print(\"A é menor que D\")\n",
    "elif A != B:\n",
    "    print(\"A é diferente de B\")\n",
    "elif A == D:\n",
    "    print(\"A é igual a D\")\n",
    "else:\n",
    "    print(A)"
   ]
  }
 ],
 "metadata": {
  "kernelspec": {
   "display_name": "base",
   "language": "python",
   "name": "python3"
  },
  "language_info": {
   "codemirror_mode": {
    "name": "ipython",
    "version": 3
   },
   "file_extension": ".py",
   "mimetype": "text/x-python",
   "name": "python",
   "nbconvert_exporter": "python",
   "pygments_lexer": "ipython3",
   "version": "3.12.7"
  }
 },
 "nbformat": 4,
 "nbformat_minor": 2
}
