{
 "cells": [
  {
   "cell_type": "code",
   "execution_count": null,
   "metadata": {},
   "outputs": [],
   "source": [
    "altura = float(input(\"Digite sua altura\"))\n",
    "\n",
    "peso = int(input(\"Digite seu peso\"))\n",
    "\n",
    "print(altura)\n",
    "print(peso)\n",
    "# --------------------|\n",
    "# imc = peso/altura**2|\n",
    "# --------------------|\n",
    "\n",
    "\n",
    "imc = peso/altura**2\n",
    "print(imc)\n",
    "\n",
    "# --------------------------|\n",
    "texto = \"Olá mundo\"  #      |\n",
    "texto_dois = \"oLÁ MUNDO\"  # |\n",
    "inteiro = -10  #            |\n",
    "racionais = 3.1415  #       |\n",
    "boolean = True  #           |\n",
    "# --------------------------|\n",
    "\n",
    "\n"
   ]
  }
 ],
 "metadata": {
  "kernelspec": {
   "display_name": "base",
   "language": "python",
   "name": "python3"
  },
  "language_info": {
   "codemirror_mode": {
    "name": "ipython",
    "version": 3
   },
   "file_extension": ".py",
   "mimetype": "text/x-python",
   "name": "python",
   "nbconvert_exporter": "python",
   "pygments_lexer": "ipython3",
   "version": "3.12.7"
  }
 },
 "nbformat": 4,
 "nbformat_minor": 2
}
