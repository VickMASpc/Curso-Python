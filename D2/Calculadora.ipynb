{
 "cells": [
  {
   "cell_type": "code",
   "execution_count": null,
   "metadata": {},
   "outputs": [
    {
     "name": "stdout",
     "output_type": "stream",
     "text": [
      "1. Soma.\n",
      "2. Subtração.\n",
      "3. Multiplicação\n",
      "4. Divisão\n",
      "A soma de 4.0 e 6.0 é: 0.6666666666666666\n"
     ]
    }
   ],
   "source": [
    "num1 = float(input(\"Insira um número: \"))\n",
    "num2 = float(input(\"Insira outro número: \"))\n",
    "\n",
    "print(\"1. Soma.\\n2. Subtração.\\n3. Multiplicação\\n4. Divisão\")\n",
    "\n",
    "escolha = input(\"Selecione uma operação matemática\")\n",
    "\n",
    "if escolha == \"1\":\n",
    "    print(f' A soma de {num1} e {num2} é: {num1 + num2}')\n",
    "elif escolha == \"2\":\n",
    "    print(f'A subtração de {num1} e {num2} é: {num1 - num2}')\n",
    "elif escolha == \"3\":\n",
    "    print(f'A multiplicação de {num1} e {num2} é: {num1 * num2}')\n",
    "elif escolha == \"4\":\n",
    "    print(f'A divisão de {num1} e {num2} é: {num1 / num2}')\n",
    "else:\n",
    "    print(\"Por favor escolha uma das opções disponíveis.\")\n"
   ]
  }
 ],
 "metadata": {
  "kernelspec": {
   "display_name": "base",
   "language": "python",
   "name": "python3"
  },
  "language_info": {
   "codemirror_mode": {
    "name": "ipython",
    "version": 3
   },
   "file_extension": ".py",
   "mimetype": "text/x-python",
   "name": "python",
   "nbconvert_exporter": "python",
   "pygments_lexer": "ipython3",
   "version": "3.12.7"
  }
 },
 "nbformat": 4,
 "nbformat_minor": 2
}
