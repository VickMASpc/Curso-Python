{
 "cells": [
  {
   "cell_type": "code",
   "execution_count": null,
   "metadata": {},
   "outputs": [
    {
     "name": "stdout",
     "output_type": "stream",
     "text": [
      "5\n",
      "150\n",
      "0.3333333333333333\n",
      "20\n",
      "Nome: Victor\n",
      "Idade: 17\n",
      "A soma dos números é: 17\n",
      "O IMC de Victor é: 20.789715335169884\n"
     ]
    }
   ],
   "source": [
    "# ---------------------|\n",
    "# 1° Desafio de revisão|\n",
    "a = 10  #              |\n",
    "b = 5  #               |\n",
    "c = 15  #              |\n",
    "#                      |\n",
    "print(a - b)  #        |\n",
    "print(a * c)  #        |\n",
    "print(b/c)  #          |\n",
    "print(c + b)  #        |\n",
    "# ---------------------|\n",
    "\n",
    "# -------------------------------------|\n",
    "# 2° - Nome e idade                    |\n",
    "#                                      |\n",
    "var1 = input(\"Insira nome\")  #         |\n",
    "#                                      |\n",
    "var2 = input(\"Insira idade\")  #        |\n",
    "#                                      |\n",
    "print(\"Nome:\", var1)  #                |\n",
    "print(\"Idade:\", var2)  #               |\n",
    "# -------------------------------------|\n",
    "\n",
    "# ----------------------------------------------------|\n",
    "# 3° Soma inteiros                                    |\n",
    "somInt1 = int(input(\"Insira um valor inteiro\"))  #    |\n",
    "somInt2 = int(input(\"insira outro valor inteiro\"))  # |\n",
    "#                                                     |\n",
    "print(f'A soma dos números é: {somInt1 + somInt2}')  #|\n",
    "# ----------------------------------------------------|\n",
    "\n",
    "# -----------------------------------------|\n",
    "# 4° Form                                  |\n",
    "nome = input(\"Digite o nome\")  #           |\n",
    "altura = float(input(\"Digite a altura\"))  #|\n",
    "peso = float(input(\"Digite o peso\"))  #    | \n",
    "#                                          |\n",
    "imc = peso/(altura**2)  #                  |\n",
    "#                                          |\n",
    "print(f'O IMC de {nome} é: {imc}')  #      |\n",
    "# -----------------------------------------|"
   ]
  }
 ],
 "metadata": {
  "kernelspec": {
   "display_name": "base",
   "language": "python",
   "name": "python3"
  },
  "language_info": {
   "codemirror_mode": {
    "name": "ipython",
    "version": 3
   },
   "file_extension": ".py",
   "mimetype": "text/x-python",
   "name": "python",
   "nbconvert_exporter": "python",
   "pygments_lexer": "ipython3",
   "version": "3.12.7"
  }
 },
 "nbformat": 4,
 "nbformat_minor": 2
}
