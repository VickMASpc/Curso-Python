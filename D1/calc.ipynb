{
 "cells": [
  {
   "cell_type": "code",
   "execution_count": null,
   "metadata": {},
   "outputs": [],
   "source": [
    "print(\"Bem vindo a calculadora de soma\")\n",
    "\n",
    "primeiroNumero = int(input(\"Digite o primeiro número: \"))\n",
    "segundoNumero = int(input(\"Digite o segundo número: \"))\n",
    "soma = primeiroNumero + segundoNumero\n",
    "\n",
    "print(f'A soma de {primeiroNumero} com {segundoNumero} é {soma}')"
   ]
  }
 ],
 "metadata": {
  "kernelspec": {
   "display_name": "base",
   "language": "python",
   "name": "python3"
  },
  "language_info": {
   "codemirror_mode": {
    "name": "ipython",
    "version": 3
   },
   "file_extension": ".py",
   "mimetype": "text/x-python",
   "name": "python",
   "nbconvert_exporter": "python",
   "pygments_lexer": "ipython3",
   "version": "3.12.7"
  }
 },
 "nbformat": 4,
 "nbformat_minor": 2
}
