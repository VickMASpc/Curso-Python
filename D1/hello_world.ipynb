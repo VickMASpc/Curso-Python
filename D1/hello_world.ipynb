{
 "cells": [
  {
   "cell_type": "code",
   "execution_count": null,
   "metadata": {},
   "outputs": [],
   "source": [
    "print(\"Hello World\")\n",
    "\n",
    "print(\"Victor Monteiro de Araújo Silva\")\n",
    "# -----|\n",
    "# x y z|\n",
    "# -----|\n",
    "x = 8\n",
    "y = 7 * 2 + x\n",
    "z = x + y\n",
    "\n",
    "# ----------------------------|\n",
    "print(x + y)  # Soma          |\n",
    "print(z - x)  # Subtração     |\n",
    "print(y * y)  # Multiplicação |\n",
    "print(z / x)  # Divisão       |\n",
    "print(z + x ** y)  # Potência |\n",
    "# ----------------------------|\n",
    "\n"
   ]
  }
 ],
 "metadata": {
  "kernelspec": {
   "display_name": "base",
   "language": "python",
   "name": "python3"
  },
  "language_info": {
   "codemirror_mode": {
    "name": "ipython",
    "version": 3
   },
   "file_extension": ".py",
   "mimetype": "text/x-python",
   "name": "python",
   "nbconvert_exporter": "python",
   "pygments_lexer": "ipython3",
   "version": "3.12.7"
  }
 },
 "nbformat": 4,
 "nbformat_minor": 2
}
