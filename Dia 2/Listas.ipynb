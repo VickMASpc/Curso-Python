{
 "cells": [
  {
   "cell_type": "code",
   "execution_count": null,
   "metadata": {},
   "outputs": [
    {
     "name": "stdout",
     "output_type": "stream",
     "text": [
      "['Item 1', 'Item 2', 'Item 3', 'Item 4', 'Item 5']\n",
      "Item 1\n",
      "['Item 1', 'Item 2', 'Item 3', 'Item 4', 'Item 5', 'Item 16']\n",
      "Mostrando numeração\n",
      "A numeração do Item 1 é: 1\n",
      "A numeração de Item 16 é: 6\n"
     ]
    }
   ],
   "source": [
    "# -----------------------------------------------------------|\n",
    "# Lista                                                      |\n",
    "Lista = [\"Item 1\", \"Item 2\", \"Item 3\", \"Item 4\", \"Item 5\"]  #|\n",
    "listaNum = [1, 2, 3, 4, 5]  #                                |\n",
    "#                                                            |\n",
    "print(Lista)  #                                              |\n",
    "print(Lista[0]) # 1° item.                                   |\n",
    "Lista.append(\"Item 16\") # Adicionar valores na lista         |\n",
    "print(Lista)  #                                              |\n",
    "# -----------------------------------------------------------|\n",
    "\n",
    "print(\"Mostrando numeração\")\n",
    "\n",
    "print(f'A numeração do {Lista[0]} é: {listaNum[0]}')\n",
    "\n",
    "listaNum.append(\"6\")\n",
    "\n",
    "print(f'A numeração de {Lista[5]} é: {listaNum[5]}')\n"
   ]
  }
 ],
 "metadata": {
  "kernelspec": {
   "display_name": "base",
   "language": "python",
   "name": "python3"
  },
  "language_info": {
   "codemirror_mode": {
    "name": "ipython",
    "version": 3
   },
   "file_extension": ".py",
   "mimetype": "text/x-python",
   "name": "python",
   "nbconvert_exporter": "python",
   "pygments_lexer": "ipython3",
   "version": "3.12.7"
  }
 },
 "nbformat": 4,
 "nbformat_minor": 2
}
