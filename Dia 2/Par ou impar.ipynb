{
 "cells": [
  {
   "cell_type": "code",
   "execution_count": null,
   "metadata": {},
   "outputs": [
    {
     "name": "stdout",
     "output_type": "stream",
     "text": [
      "Este número é ímpar.\n"
     ]
    }
   ],
   "source": [
    "num = float(input(\"Digite um número\"))\n",
    "\n",
    "teste = num%2\n",
    "\n",
    "if teste == 1:\n",
    "    print(\"Este número é ímpar.\")\n",
    "else:\n",
    "    print(\"Este número é par.\")\n"
   ]
  }
 ],
 "metadata": {
  "kernelspec": {
   "display_name": "base",
   "language": "python",
   "name": "python3"
  },
  "language_info": {
   "codemirror_mode": {
    "name": "ipython",
    "version": 3
   },
   "file_extension": ".py",
   "mimetype": "text/x-python",
   "name": "python",
   "nbconvert_exporter": "python",
   "pygments_lexer": "ipython3",
   "version": "3.12.7"
  }
 },
 "nbformat": 4,
 "nbformat_minor": 2
}
